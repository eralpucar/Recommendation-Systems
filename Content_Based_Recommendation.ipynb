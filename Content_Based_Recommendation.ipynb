{
 "cells": [
  {
   "cell_type": "markdown",
   "id": "90c71d99",
   "metadata": {},
   "source": [
    "\n",
    "# Content Based Recommendation (İçerik Temelli Tavsiye)\n",
    "\n",
    "\n",
    "\n",
    "## Film Overview'larına Göre Tavsiye Geliştirme\n",
    "\n",
    "\n",
    "### 1. TF-IDF Matrisinin Oluşturulması\n",
    "### 2. Cosine Similarity Matrisinin Oluşturulması\n",
    "### 3. Benzerliklere Göre Önerilerin Yapılması\n",
    "### 4. Çalışma Scriptinin Hazırlanması"
   ]
  },
  {
   "cell_type": "code",
   "execution_count": 1,
   "id": "8e028324",
   "metadata": {},
   "outputs": [],
   "source": [
    "#################################\n",
    "# 1. TF-IDF Matrisinin Oluşturulması\n",
    "#################################"
   ]
  },
  {
   "cell_type": "code",
   "execution_count": 3,
   "id": "c9150288",
   "metadata": {},
   "outputs": [],
   "source": [
    "#Gerekli kütüphaneleri ve methotları import ettik ve veriyi okuduk\n",
    "import pandas as pd\n",
    "pd.set_option('display.max_columns', None)\n",
    "pd.set_option('display.width', 500)\n",
    "pd.set_option('display.expand_frame_repr', False)\n",
    "from sklearn.feature_extraction.text import TfidfVectorizer\n",
    "from sklearn.metrics.pairwise import cosine_similarity\n",
    "# https://www.kaggle.com/rounakbanik/the-movies-dataset\n",
    "df = pd.read_csv(\"../datasets/movies_metadata.csv\", low_memory=False)  # DtypeWarning kapamak icin"
   ]
  },
  {
   "cell_type": "code",
   "execution_count": 4,
   "id": "d7f93943",
   "metadata": {},
   "outputs": [
    {
     "data": {
      "text/html": [
       "<div>\n",
       "<style scoped>\n",
       "    .dataframe tbody tr th:only-of-type {\n",
       "        vertical-align: middle;\n",
       "    }\n",
       "\n",
       "    .dataframe tbody tr th {\n",
       "        vertical-align: top;\n",
       "    }\n",
       "\n",
       "    .dataframe thead th {\n",
       "        text-align: right;\n",
       "    }\n",
       "</style>\n",
       "<table border=\"1\" class=\"dataframe\">\n",
       "  <thead>\n",
       "    <tr style=\"text-align: right;\">\n",
       "      <th></th>\n",
       "      <th>adult</th>\n",
       "      <th>belongs_to_collection</th>\n",
       "      <th>budget</th>\n",
       "      <th>genres</th>\n",
       "      <th>homepage</th>\n",
       "      <th>id</th>\n",
       "      <th>imdb_id</th>\n",
       "      <th>original_language</th>\n",
       "      <th>original_title</th>\n",
       "      <th>overview</th>\n",
       "      <th>popularity</th>\n",
       "      <th>poster_path</th>\n",
       "      <th>production_companies</th>\n",
       "      <th>production_countries</th>\n",
       "      <th>release_date</th>\n",
       "      <th>revenue</th>\n",
       "      <th>runtime</th>\n",
       "      <th>spoken_languages</th>\n",
       "      <th>status</th>\n",
       "      <th>tagline</th>\n",
       "      <th>title</th>\n",
       "      <th>video</th>\n",
       "      <th>vote_average</th>\n",
       "      <th>vote_count</th>\n",
       "    </tr>\n",
       "  </thead>\n",
       "  <tbody>\n",
       "    <tr>\n",
       "      <th>0</th>\n",
       "      <td>False</td>\n",
       "      <td>{'id': 10194, 'name': 'Toy Story Collection', ...</td>\n",
       "      <td>30000000</td>\n",
       "      <td>[{'id': 16, 'name': 'Animation'}, {'id': 35, '...</td>\n",
       "      <td>http://toystory.disney.com/toy-story</td>\n",
       "      <td>862</td>\n",
       "      <td>tt0114709</td>\n",
       "      <td>en</td>\n",
       "      <td>Toy Story</td>\n",
       "      <td>Led by Woody, Andy's toys live happily in his ...</td>\n",
       "      <td>21.946943</td>\n",
       "      <td>/rhIRbceoE9lR4veEXuwCC2wARtG.jpg</td>\n",
       "      <td>[{'name': 'Pixar Animation Studios', 'id': 3}]</td>\n",
       "      <td>[{'iso_3166_1': 'US', 'name': 'United States o...</td>\n",
       "      <td>1995-10-30</td>\n",
       "      <td>373554033.0</td>\n",
       "      <td>81.0</td>\n",
       "      <td>[{'iso_639_1': 'en', 'name': 'English'}]</td>\n",
       "      <td>Released</td>\n",
       "      <td>NaN</td>\n",
       "      <td>Toy Story</td>\n",
       "      <td>False</td>\n",
       "      <td>7.7</td>\n",
       "      <td>5415.0</td>\n",
       "    </tr>\n",
       "    <tr>\n",
       "      <th>1</th>\n",
       "      <td>False</td>\n",
       "      <td>NaN</td>\n",
       "      <td>65000000</td>\n",
       "      <td>[{'id': 12, 'name': 'Adventure'}, {'id': 14, '...</td>\n",
       "      <td>NaN</td>\n",
       "      <td>8844</td>\n",
       "      <td>tt0113497</td>\n",
       "      <td>en</td>\n",
       "      <td>Jumanji</td>\n",
       "      <td>When siblings Judy and Peter discover an encha...</td>\n",
       "      <td>17.015539</td>\n",
       "      <td>/vzmL6fP7aPKNKPRTFnZmiUfciyV.jpg</td>\n",
       "      <td>[{'name': 'TriStar Pictures', 'id': 559}, {'na...</td>\n",
       "      <td>[{'iso_3166_1': 'US', 'name': 'United States o...</td>\n",
       "      <td>1995-12-15</td>\n",
       "      <td>262797249.0</td>\n",
       "      <td>104.0</td>\n",
       "      <td>[{'iso_639_1': 'en', 'name': 'English'}, {'iso...</td>\n",
       "      <td>Released</td>\n",
       "      <td>Roll the dice and unleash the excitement!</td>\n",
       "      <td>Jumanji</td>\n",
       "      <td>False</td>\n",
       "      <td>6.9</td>\n",
       "      <td>2413.0</td>\n",
       "    </tr>\n",
       "    <tr>\n",
       "      <th>2</th>\n",
       "      <td>False</td>\n",
       "      <td>{'id': 119050, 'name': 'Grumpy Old Men Collect...</td>\n",
       "      <td>0</td>\n",
       "      <td>[{'id': 10749, 'name': 'Romance'}, {'id': 35, ...</td>\n",
       "      <td>NaN</td>\n",
       "      <td>15602</td>\n",
       "      <td>tt0113228</td>\n",
       "      <td>en</td>\n",
       "      <td>Grumpier Old Men</td>\n",
       "      <td>A family wedding reignites the ancient feud be...</td>\n",
       "      <td>11.7129</td>\n",
       "      <td>/6ksm1sjKMFLbO7UY2i6G1ju9SML.jpg</td>\n",
       "      <td>[{'name': 'Warner Bros.', 'id': 6194}, {'name'...</td>\n",
       "      <td>[{'iso_3166_1': 'US', 'name': 'United States o...</td>\n",
       "      <td>1995-12-22</td>\n",
       "      <td>0.0</td>\n",
       "      <td>101.0</td>\n",
       "      <td>[{'iso_639_1': 'en', 'name': 'English'}]</td>\n",
       "      <td>Released</td>\n",
       "      <td>Still Yelling. Still Fighting. Still Ready for...</td>\n",
       "      <td>Grumpier Old Men</td>\n",
       "      <td>False</td>\n",
       "      <td>6.5</td>\n",
       "      <td>92.0</td>\n",
       "    </tr>\n",
       "    <tr>\n",
       "      <th>3</th>\n",
       "      <td>False</td>\n",
       "      <td>NaN</td>\n",
       "      <td>16000000</td>\n",
       "      <td>[{'id': 35, 'name': 'Comedy'}, {'id': 18, 'nam...</td>\n",
       "      <td>NaN</td>\n",
       "      <td>31357</td>\n",
       "      <td>tt0114885</td>\n",
       "      <td>en</td>\n",
       "      <td>Waiting to Exhale</td>\n",
       "      <td>Cheated on, mistreated and stepped on, the wom...</td>\n",
       "      <td>3.859495</td>\n",
       "      <td>/16XOMpEaLWkrcPqSQqhTmeJuqQl.jpg</td>\n",
       "      <td>[{'name': 'Twentieth Century Fox Film Corporat...</td>\n",
       "      <td>[{'iso_3166_1': 'US', 'name': 'United States o...</td>\n",
       "      <td>1995-12-22</td>\n",
       "      <td>81452156.0</td>\n",
       "      <td>127.0</td>\n",
       "      <td>[{'iso_639_1': 'en', 'name': 'English'}]</td>\n",
       "      <td>Released</td>\n",
       "      <td>Friends are the people who let you be yourself...</td>\n",
       "      <td>Waiting to Exhale</td>\n",
       "      <td>False</td>\n",
       "      <td>6.1</td>\n",
       "      <td>34.0</td>\n",
       "    </tr>\n",
       "    <tr>\n",
       "      <th>4</th>\n",
       "      <td>False</td>\n",
       "      <td>{'id': 96871, 'name': 'Father of the Bride Col...</td>\n",
       "      <td>0</td>\n",
       "      <td>[{'id': 35, 'name': 'Comedy'}]</td>\n",
       "      <td>NaN</td>\n",
       "      <td>11862</td>\n",
       "      <td>tt0113041</td>\n",
       "      <td>en</td>\n",
       "      <td>Father of the Bride Part II</td>\n",
       "      <td>Just when George Banks has recovered from his ...</td>\n",
       "      <td>8.387519</td>\n",
       "      <td>/e64sOI48hQXyru7naBFyssKFxVd.jpg</td>\n",
       "      <td>[{'name': 'Sandollar Productions', 'id': 5842}...</td>\n",
       "      <td>[{'iso_3166_1': 'US', 'name': 'United States o...</td>\n",
       "      <td>1995-02-10</td>\n",
       "      <td>76578911.0</td>\n",
       "      <td>106.0</td>\n",
       "      <td>[{'iso_639_1': 'en', 'name': 'English'}]</td>\n",
       "      <td>Released</td>\n",
       "      <td>Just When His World Is Back To Normal... He's ...</td>\n",
       "      <td>Father of the Bride Part II</td>\n",
       "      <td>False</td>\n",
       "      <td>5.7</td>\n",
       "      <td>173.0</td>\n",
       "    </tr>\n",
       "  </tbody>\n",
       "</table>\n",
       "</div>"
      ],
      "text/plain": [
       "   adult                              belongs_to_collection    budget                                             genres                              homepage     id    imdb_id original_language               original_title                                           overview popularity                       poster_path                               production_companies                               production_countries release_date      revenue  runtime                                   spoken_languages    status                                            tagline                        title  video  vote_average  vote_count\n",
       "0  False  {'id': 10194, 'name': 'Toy Story Collection', ...  30000000  [{'id': 16, 'name': 'Animation'}, {'id': 35, '...  http://toystory.disney.com/toy-story    862  tt0114709                en                    Toy Story  Led by Woody, Andy's toys live happily in his ...  21.946943  /rhIRbceoE9lR4veEXuwCC2wARtG.jpg     [{'name': 'Pixar Animation Studios', 'id': 3}]  [{'iso_3166_1': 'US', 'name': 'United States o...   1995-10-30  373554033.0     81.0           [{'iso_639_1': 'en', 'name': 'English'}]  Released                                                NaN                    Toy Story  False           7.7      5415.0\n",
       "1  False                                                NaN  65000000  [{'id': 12, 'name': 'Adventure'}, {'id': 14, '...                                   NaN   8844  tt0113497                en                      Jumanji  When siblings Judy and Peter discover an encha...  17.015539  /vzmL6fP7aPKNKPRTFnZmiUfciyV.jpg  [{'name': 'TriStar Pictures', 'id': 559}, {'na...  [{'iso_3166_1': 'US', 'name': 'United States o...   1995-12-15  262797249.0    104.0  [{'iso_639_1': 'en', 'name': 'English'}, {'iso...  Released          Roll the dice and unleash the excitement!                      Jumanji  False           6.9      2413.0\n",
       "2  False  {'id': 119050, 'name': 'Grumpy Old Men Collect...         0  [{'id': 10749, 'name': 'Romance'}, {'id': 35, ...                                   NaN  15602  tt0113228                en             Grumpier Old Men  A family wedding reignites the ancient feud be...    11.7129  /6ksm1sjKMFLbO7UY2i6G1ju9SML.jpg  [{'name': 'Warner Bros.', 'id': 6194}, {'name'...  [{'iso_3166_1': 'US', 'name': 'United States o...   1995-12-22          0.0    101.0           [{'iso_639_1': 'en', 'name': 'English'}]  Released  Still Yelling. Still Fighting. Still Ready for...             Grumpier Old Men  False           6.5        92.0\n",
       "3  False                                                NaN  16000000  [{'id': 35, 'name': 'Comedy'}, {'id': 18, 'nam...                                   NaN  31357  tt0114885                en            Waiting to Exhale  Cheated on, mistreated and stepped on, the wom...   3.859495  /16XOMpEaLWkrcPqSQqhTmeJuqQl.jpg  [{'name': 'Twentieth Century Fox Film Corporat...  [{'iso_3166_1': 'US', 'name': 'United States o...   1995-12-22   81452156.0    127.0           [{'iso_639_1': 'en', 'name': 'English'}]  Released  Friends are the people who let you be yourself...            Waiting to Exhale  False           6.1        34.0\n",
       "4  False  {'id': 96871, 'name': 'Father of the Bride Col...         0                     [{'id': 35, 'name': 'Comedy'}]                                   NaN  11862  tt0113041                en  Father of the Bride Part II  Just when George Banks has recovered from his ...   8.387519  /e64sOI48hQXyru7naBFyssKFxVd.jpg  [{'name': 'Sandollar Productions', 'id': 5842}...  [{'iso_3166_1': 'US', 'name': 'United States o...   1995-02-10   76578911.0    106.0           [{'iso_639_1': 'en', 'name': 'English'}]  Released  Just When His World Is Back To Normal... He's ...  Father of the Bride Part II  False           5.7       173.0"
      ]
     },
     "execution_count": 4,
     "metadata": {},
     "output_type": "execute_result"
    }
   ],
   "source": [
    "df.head()"
   ]
  },
  {
   "cell_type": "code",
   "execution_count": 5,
   "id": "31cea938",
   "metadata": {},
   "outputs": [
    {
     "data": {
      "text/plain": [
       "(45466, 24)"
      ]
     },
     "execution_count": 5,
     "metadata": {},
     "output_type": "execute_result"
    }
   ],
   "source": [
    "df.shape"
   ]
  },
  {
   "cell_type": "code",
   "execution_count": 6,
   "id": "33433312",
   "metadata": {},
   "outputs": [],
   "source": [
    "#Overview kısmını vektörleştirmek için TfdifVectorizer objesi oluşturalım\n",
    "tf_idf=TfidfVectorizer(stop_words=\"english\") \n",
    "# stop_words parametresine metnin yazıldığı dil girilir\n",
    "# ve o dilde çok kullanılan kelimelerin (the, on, at gibi) uçurulmasını sağlar"
   ]
  },
  {
   "cell_type": "code",
   "execution_count": 7,
   "id": "4a9b55f0",
   "metadata": {},
   "outputs": [
    {
     "data": {
      "text/plain": [
       "954"
      ]
     },
     "execution_count": 7,
     "metadata": {},
     "output_type": "execute_result"
    }
   ],
   "source": [
    "df[\"overview\"].isnull().sum()"
   ]
  },
  {
   "cell_type": "code",
   "execution_count": 8,
   "id": "2dc5f8d3",
   "metadata": {},
   "outputs": [],
   "source": [
    "# eksik değerleri \" \" ile dolduralım\n",
    "df[\"overview\"]=df[\"overview\"].fillna(\" \")"
   ]
  },
  {
   "cell_type": "code",
   "execution_count": 26,
   "id": "88e7031c",
   "metadata": {},
   "outputs": [
    {
     "name": "stdout",
     "output_type": "stream",
     "text": [
      "tf_idf_matrix'inin satırlarında 45466 tane film açıklamaları, sütunlarında ise bu filmlerin overview'inde geçen 75827 tane eşsiz kelime bulunur.\n"
     ]
    }
   ],
   "source": [
    "tf_idf_matrix=tf_idf.fit_transform(df[\"overview\"])\n",
    "print(\"tf_idf_matrix'inin satırlarında {} tane film açıklamaları,\".format(tf_idf_matrix.shape[0]),\n",
    "      \"sütunlarında ise bu filmlerin overview'inde geçen {} tane eşsiz kelime bulunur.\"\n",
    "      .format(tf_idf_matrix.shape[1]))                    \n"
   ]
  },
  {
   "cell_type": "code",
   "execution_count": 19,
   "id": "7a330ee3",
   "metadata": {},
   "outputs": [],
   "source": [
    "#################################\n",
    "# 2. Cosine Similarity Matrisinin Oluşturulması\n",
    "#################################"
   ]
  },
  {
   "cell_type": "code",
   "execution_count": 28,
   "id": "4449b3c2",
   "metadata": {},
   "outputs": [
    {
     "data": {
      "text/plain": [
       "(45466, 45466)"
      ]
     },
     "execution_count": 28,
     "metadata": {},
     "output_type": "execute_result"
    }
   ],
   "source": [
    "#Cosine similarity fonksiyonuyla  bir filmin diğer tüm filmler ile olan benzerliklerini bulalım\n",
    "#cosine_sim satır ve sütunları filmlerden oluşan bir square matrixdir\n",
    "#Filmlerin kesişiminde o filmler arasındaki kosünüz benzerlikleri yazar\n",
    "cosine_sim = cosine_similarity(tf_idf_matrix,\n",
    "                               tf_idf_matrix)\n",
    "cosine_sim.shape"
   ]
  },
  {
   "cell_type": "code",
   "execution_count": 30,
   "id": "4a0e9859",
   "metadata": {},
   "outputs": [],
   "source": [
    "#################################\n",
    "# 3. Benzerliklere Göre Önerilerin Yapılması\n",
    "#################################"
   ]
  },
  {
   "cell_type": "code",
   "execution_count": 32,
   "id": "42ae0686",
   "metadata": {},
   "outputs": [
    {
     "data": {
      "text/plain": [
       "title\n",
       "Toy Story                          0\n",
       "Jumanji                            1\n",
       "Grumpier Old Men                   2\n",
       "Waiting to Exhale                  3\n",
       "Father of the Bride Part II        4\n",
       "                               ...  \n",
       "Subdue                         45461\n",
       "Century of Birthing            45462\n",
       "Betrayal                       45463\n",
       "Satan Triumphant               45464\n",
       "Queerama                       45465\n",
       "Length: 45466, dtype: int64"
      ]
     },
     "execution_count": 32,
     "metadata": {},
     "output_type": "execute_result"
    }
   ],
   "source": [
    "#Oluşturduğumuz matrixe öneri yapabilmemiz için filmlerin isminide eklememiz lazım\n",
    "film_names=pd.Series(df.index,index=df[\"title\"])\n",
    "film_names"
   ]
  },
  {
   "cell_type": "code",
   "execution_count": 33,
   "id": "f35a0c36",
   "metadata": {},
   "outputs": [
    {
     "data": {
      "text/plain": [
       "Cinderella              11\n",
       "Hamlet                   9\n",
       "Alice in Wonderland      9\n",
       "Beauty and the Beast     8\n",
       "Les Misérables           8\n",
       "                        ..\n",
       "Golden Swallow           1\n",
       "Shoot on Sight           1\n",
       "Kill Bill: Vol. 2        1\n",
       "Raiders of the Sun       1\n",
       "Bestiary                 1\n",
       "Name: title, Length: 42277, dtype: int64"
      ]
     },
     "execution_count": 33,
     "metadata": {},
     "output_type": "execute_result"
    }
   ],
   "source": [
    "film_names.index.value_counts()\n",
    "#Görüldüğü gibi filmlerde çoklama var\n",
    "#Burda farklı yaklaşımlar izlenebilir biz en güncel olanı tutucaz diğerlerini droplayacağız"
   ]
  },
  {
   "cell_type": "code",
   "execution_count": 34,
   "id": "e3fda200",
   "metadata": {},
   "outputs": [
    {
     "data": {
      "text/plain": [
       "The Princess Comes Across        1\n",
       "Kingdom of Crooked Mirrors       1\n",
       "Empire of Silver                 1\n",
       "Kamikaze Taxi                    1\n",
       "A Barefoot Dream                 1\n",
       "                                ..\n",
       "A Buddha                         1\n",
       "Blockade                         1\n",
       "The Giant King                   1\n",
       "Providence                       1\n",
       "The Girl from the Marsh Croft    1\n",
       "Name: title, Length: 42277, dtype: int64"
      ]
     },
     "execution_count": 34,
     "metadata": {},
     "output_type": "execute_result"
    }
   ],
   "source": [
    "film_names = film_names[~film_names.index.duplicated(keep='last')]\n",
    "film_names.index.value_counts()"
   ]
  },
  {
   "cell_type": "code",
   "execution_count": 37,
   "id": "df962942",
   "metadata": {},
   "outputs": [
    {
     "data": {
      "text/html": [
       "<div>\n",
       "<style scoped>\n",
       "    .dataframe tbody tr th:only-of-type {\n",
       "        vertical-align: middle;\n",
       "    }\n",
       "\n",
       "    .dataframe tbody tr th {\n",
       "        vertical-align: top;\n",
       "    }\n",
       "\n",
       "    .dataframe thead th {\n",
       "        text-align: right;\n",
       "    }\n",
       "</style>\n",
       "<table border=\"1\" class=\"dataframe\">\n",
       "  <thead>\n",
       "    <tr style=\"text-align: right;\">\n",
       "      <th></th>\n",
       "      <th>SCORE</th>\n",
       "    </tr>\n",
       "  </thead>\n",
       "  <tbody>\n",
       "    <tr>\n",
       "      <th>0</th>\n",
       "      <td>0.000000</td>\n",
       "    </tr>\n",
       "    <tr>\n",
       "      <th>1</th>\n",
       "      <td>0.003928</td>\n",
       "    </tr>\n",
       "    <tr>\n",
       "      <th>2</th>\n",
       "      <td>0.004768</td>\n",
       "    </tr>\n",
       "    <tr>\n",
       "      <th>3</th>\n",
       "      <td>0.000000</td>\n",
       "    </tr>\n",
       "    <tr>\n",
       "      <th>4</th>\n",
       "      <td>0.000000</td>\n",
       "    </tr>\n",
       "    <tr>\n",
       "      <th>...</th>\n",
       "      <td>...</td>\n",
       "    </tr>\n",
       "    <tr>\n",
       "      <th>45461</th>\n",
       "      <td>0.000000</td>\n",
       "    </tr>\n",
       "    <tr>\n",
       "      <th>45462</th>\n",
       "      <td>0.000000</td>\n",
       "    </tr>\n",
       "    <tr>\n",
       "      <th>45463</th>\n",
       "      <td>0.000000</td>\n",
       "    </tr>\n",
       "    <tr>\n",
       "      <th>45464</th>\n",
       "      <td>0.006792</td>\n",
       "    </tr>\n",
       "    <tr>\n",
       "      <th>45465</th>\n",
       "      <td>0.000000</td>\n",
       "    </tr>\n",
       "  </tbody>\n",
       "</table>\n",
       "<p>45466 rows × 1 columns</p>\n",
       "</div>"
      ],
      "text/plain": [
       "          SCORE\n",
       "0      0.000000\n",
       "1      0.003928\n",
       "2      0.004768\n",
       "3      0.000000\n",
       "4      0.000000\n",
       "...         ...\n",
       "45461  0.000000\n",
       "45462  0.000000\n",
       "45463  0.000000\n",
       "45464  0.006792\n",
       "45465  0.000000\n",
       "\n",
       "[45466 rows x 1 columns]"
      ]
     },
     "execution_count": 37,
     "metadata": {},
     "output_type": "execute_result"
    }
   ],
   "source": [
    "#Şimdi seçtiğimiz bir filmler diğer bütün filmlerin benzerlik skorunu gözlemleyelim\n",
    "movie_index=film_names[\"Sherlock Holmes\"]\n",
    "similarity_scores=pd.DataFrame(cosine_sim[movie_index],columns=[\"SCORE\"])\n",
    "similarity_scores"
   ]
  },
  {
   "cell_type": "code",
   "execution_count": 38,
   "id": "bdbc2a44",
   "metadata": {},
   "outputs": [
    {
     "data": {
      "text/plain": [
       "34737    Приключения Шерлока Холмса и доктора Ватсона: ...\n",
       "14821                                    The Royal Scandal\n",
       "34750    The Adventures of Sherlock Holmes and Doctor W...\n",
       "9743                           The Seven-Per-Cent Solution\n",
       "4434                                        Without a Clue\n",
       "29706                       How Sherlock Changed the World\n",
       "18258                   Sherlock Holmes: A Game of Shadows\n",
       "24665     The Sign of Four: Sherlock Holmes' Greatest Case\n",
       "6432                   The Private Life of Sherlock Holmes\n",
       "29154                          Sherlock Holmes in New York\n",
       "Name: title, dtype: object"
      ]
     },
     "execution_count": 38,
     "metadata": {},
     "output_type": "execute_result"
    }
   ],
   "source": [
    "#Sherlock Holmes filmine en çok benzeyen 10 filme bakalım\n",
    "film_indices=similarity_scores.sort_values(\"SCORE\",ascending=False)[1:11].index\n",
    "df.title.iloc[film_indices]"
   ]
  },
  {
   "cell_type": "code",
   "execution_count": 39,
   "id": "15823de9",
   "metadata": {},
   "outputs": [],
   "source": [
    "#################################\n",
    "# 4. Çalışma Scriptinin Hazırlanması\n",
    "#################################"
   ]
  },
  {
   "cell_type": "code",
   "execution_count": 42,
   "id": "e10fd538",
   "metadata": {},
   "outputs": [],
   "source": [
    "def calculate_cosine_sim(dataframe):\n",
    "    tfidf = TfidfVectorizer(stop_words='english')\n",
    "    dataframe['overview'] = dataframe['overview'].fillna('')\n",
    "    tfidf_matrix = tfidf.fit_transform(dataframe['overview'])\n",
    "    cosine_sim = cosine_similarity(tfidf_matrix, tfidf_matrix)\n",
    "    return cosine_sim"
   ]
  },
  {
   "cell_type": "code",
   "execution_count": 44,
   "id": "629f15ec",
   "metadata": {},
   "outputs": [
    {
     "data": {
      "text/plain": [
       "44161                        A Detective Story\n",
       "44167                              Kid's Story\n",
       "44163                             World Record\n",
       "33854                                Algorithm\n",
       "167                                    Hackers\n",
       "20707    Underground: The Julian Assange Story\n",
       "6515                                  Commando\n",
       "24202                                 Who Am I\n",
       "22085                           Berlin Express\n",
       "9159                                  Takedown\n",
       "Name: title, dtype: object"
      ]
     },
     "execution_count": 44,
     "metadata": {},
     "output_type": "execute_result"
    }
   ],
   "source": [
    "def content_based_recommender(title,dataframe):\n",
    "    #cosine_sim matrixini oluşturalım\n",
    "    cosnine_sim=calculate_cosine_sim(dataframe)\n",
    "    # index'leri olusturma\n",
    "    indices = pd.Series(dataframe.index, index=dataframe['title'])\n",
    "    indices = indices[~indices.index.duplicated(keep='last')]\n",
    "    # title'ın index'ini yakalama\n",
    "    movie_index = indices[title]\n",
    "    # title'a gore benzerlik skorlarını hesapalama\n",
    "    similarity_scores = pd.DataFrame(cosine_sim[movie_index], columns=[\"score\"])\n",
    "    # kendisi haric ilk 10 filmi getirme\n",
    "    movie_indices = similarity_scores.sort_values(\"score\", ascending=False)[1:11].index\n",
    "    return dataframe['title'].iloc[movie_indices]\n",
    "content_based_recommender(\"The Matrix\",df)\n"
   ]
  },
  {
   "cell_type": "code",
   "execution_count": null,
   "id": "561fb03d",
   "metadata": {},
   "outputs": [],
   "source": []
  }
 ],
 "metadata": {
  "kernelspec": {
   "display_name": "Python 3",
   "language": "python",
   "name": "python3"
  },
  "language_info": {
   "codemirror_mode": {
    "name": "ipython",
    "version": 3
   },
   "file_extension": ".py",
   "mimetype": "text/x-python",
   "name": "python",
   "nbconvert_exporter": "python",
   "pygments_lexer": "ipython3",
   "version": "3.8.8"
  }
 },
 "nbformat": 4,
 "nbformat_minor": 5
}
